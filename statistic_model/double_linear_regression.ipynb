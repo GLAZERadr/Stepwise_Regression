{
 "cells": [
  {
   "cell_type": "code",
   "execution_count": 19,
   "metadata": {},
   "outputs": [],
   "source": [
    "import pandas as pd\n",
    "import numpy as np"
   ]
  },
  {
   "cell_type": "code",
   "execution_count": 20,
   "metadata": {},
   "outputs": [
    {
     "data": {
      "text/html": [
       "<div>\n",
       "<style scoped>\n",
       "    .dataframe tbody tr th:only-of-type {\n",
       "        vertical-align: middle;\n",
       "    }\n",
       "\n",
       "    .dataframe tbody tr th {\n",
       "        vertical-align: top;\n",
       "    }\n",
       "\n",
       "    .dataframe thead th {\n",
       "        text-align: right;\n",
       "    }\n",
       "</style>\n",
       "<table border=\"1\" class=\"dataframe\">\n",
       "  <thead>\n",
       "    <tr style=\"text-align: right;\">\n",
       "      <th></th>\n",
       "      <th>Export (X1)</th>\n",
       "      <th>Import (X2)</th>\n",
       "      <th>Industrial production growth rate (X3)</th>\n",
       "      <th>Investment (X4)</th>\n",
       "      <th>Unemployment rate (X5)</th>\n",
       "      <th>GDP (Y)</th>\n",
       "    </tr>\n",
       "  </thead>\n",
       "  <tbody>\n",
       "    <tr>\n",
       "      <th>0</th>\n",
       "      <td>5.388000e+11</td>\n",
       "      <td>4.018000e+11</td>\n",
       "      <td>6.6</td>\n",
       "      <td>24.0</td>\n",
       "      <td>4.7</td>\n",
       "      <td>3.745000e+12</td>\n",
       "    </tr>\n",
       "    <tr>\n",
       "      <th>1</th>\n",
       "      <td>8.933000e+11</td>\n",
       "      <td>7.167000e+11</td>\n",
       "      <td>2.2</td>\n",
       "      <td>17.6</td>\n",
       "      <td>10.6</td>\n",
       "      <td>2.362000e+12</td>\n",
       "    </tr>\n",
       "    <tr>\n",
       "      <th>2</th>\n",
       "      <td>1.130000e+11</td>\n",
       "      <td>3.621000e+10</td>\n",
       "      <td>2.8</td>\n",
       "      <td>17.2</td>\n",
       "      <td>25.0</td>\n",
       "      <td>3.102000e+11</td>\n",
       "    </tr>\n",
       "    <tr>\n",
       "      <th>3</th>\n",
       "      <td>1.625000e+11</td>\n",
       "      <td>9.291000e+10</td>\n",
       "      <td>6.4</td>\n",
       "      <td>19.1</td>\n",
       "      <td>8.3</td>\n",
       "      <td>1.408000e+12</td>\n",
       "    </tr>\n",
       "    <tr>\n",
       "      <th>4</th>\n",
       "      <td>1.307000e+11</td>\n",
       "      <td>1.211000e+11</td>\n",
       "      <td>4.7</td>\n",
       "      <td>20.4</td>\n",
       "      <td>3.4</td>\n",
       "      <td>2.519000e+11</td>\n",
       "    </tr>\n",
       "  </tbody>\n",
       "</table>\n",
       "</div>"
      ],
      "text/plain": [
       "    Export (X1)   Import (X2)  Industrial production growth rate (X3)   \n",
       "0  5.388000e+11  4.018000e+11                                     6.6  \\\n",
       "1  8.933000e+11  7.167000e+11                                     2.2   \n",
       "2  1.130000e+11  3.621000e+10                                     2.8   \n",
       "3  1.625000e+11  9.291000e+10                                     6.4   \n",
       "4  1.307000e+11  1.211000e+11                                     4.7   \n",
       "\n",
       "   Investment (X4)  Unemployment rate (X5)       GDP (Y)  \n",
       "0             24.0                     4.7  3.745000e+12  \n",
       "1             17.6                    10.6  2.362000e+12  \n",
       "2             17.2                    25.0  3.102000e+11  \n",
       "3             19.1                     8.3  1.408000e+12  \n",
       "4             20.4                     3.4  2.519000e+11  "
      ]
     },
     "execution_count": 20,
     "metadata": {},
     "output_type": "execute_result"
    }
   ],
   "source": [
    "df = pd.read_csv('../dataset/clean_data.csv')\n",
    "df.head()"
   ]
  },
  {
   "cell_type": "code",
   "execution_count": null,
   "metadata": {},
   "outputs": [],
   "source": []
  }
 ],
 "metadata": {
  "kernelspec": {
   "display_name": "Python 3",
   "language": "python",
   "name": "python3"
  },
  "language_info": {
   "codemirror_mode": {
    "name": "ipython",
    "version": 3
   },
   "file_extension": ".py",
   "mimetype": "text/x-python",
   "name": "python",
   "nbconvert_exporter": "python",
   "pygments_lexer": "ipython3",
   "version": "3.11.3"
  },
  "orig_nbformat": 4
 },
 "nbformat": 4,
 "nbformat_minor": 2
}
